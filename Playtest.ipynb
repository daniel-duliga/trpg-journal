{
 "cells": [
  {
   "cell_type": "code",
   "execution_count": 1,
   "metadata": {},
   "outputs": [],
   "source": [
    "from ironsworn import *"
   ]
  },
  {
   "cell_type": "code",
   "execution_count": 2,
   "metadata": {},
   "outputs": [
    {
     "name": "stdout",
     "output_type": "stream",
     "text": [
      "{'name': 'Nisus', 'iron': 3, 'heart': 2, 'wits': 2, 'edge': 1, 'shadow': 1}\n"
     ]
    }
   ],
   "source": [
    "pc = Character()"
   ]
  },
  {
   "cell_type": "code",
   "execution_count": 3,
   "metadata": {},
   "outputs": [
    {
     "name": "stdout",
     "output_type": "stream",
     "text": [
      "{'name': 'Mona', 'iron': 3, 'heart': 2, 'wits': 2, 'edge': 1, 'shadow': 1}\n"
     ]
    }
   ],
   "source": [
    "pc.name = oracle.ironlander_names()\r\n",
    "print(pc.__dict__)"
   ]
  },
  {
   "cell_type": "code",
   "execution_count": 4,
   "metadata": {},
   "outputs": [
    {
     "name": "stdout",
     "output_type": "stream",
     "text": [
      "\n",
      "When you assess a situation, make preparations, or attempt to gain leverage, envision your action and roll. If you act...\n",
      "• With speed, agility, or precision: Roll +edge.\n",
      "• With charm, loyalty, or courage: Roll +heart.\n",
      "• With aggressive action, forceful defense, strength, or endurance: Roll +iron.\n",
      "• With deception, stealth, or trickery: Roll +shadow.\n",
      "• With expertise, insight, or observation: Roll +wits.\n",
      "\n",
      "On a strong hit, you gain advantage. Choose one.\n",
      "• Take control: Make another move now (not a progress move); when you do, add +1.\n",
      "• Prepare to act: Take +2 momentum.\n",
      "\n",
      "On a weak hit, your advantage is short-lived. Take +1 momentum.\n",
      "\n",
      "On a miss, you fail or your assumptions betray you. Pay the Price.\n",
      "\n"
     ]
    }
   ],
   "source": [
    "move.secure_an_advantage()"
   ]
  },
  {
   "cell_type": "code",
   "execution_count": 5,
   "metadata": {},
   "outputs": [],
   "source": [
    "from IPython.display import YouTubeVideo"
   ]
  },
  {
   "cell_type": "code",
   "execution_count": 6,
   "metadata": {},
   "outputs": [
    {
     "data": {
      "image/jpeg": "[encoded data removed]",
      "text/html": [
       "\n",
       "        <iframe\n",
       "            width=\"400\"\n",
       "            height=\"300\"\n",
       "            src=\"https://www.youtube.com/embed/A8qMyBWZNw0\"\n",
       "            frameborder=\"0\"\n",
       "            allowfullscreen\n",
       "        ></iframe>\n",
       "        "
      ],
      "text/plain": [
       "<IPython.lib.display.YouTubeVideo at 0x2855848b790>"
      ]
     },
     "execution_count": 6,
     "metadata": {},
     "output_type": "execute_result"
    }
   ],
   "source": [
    "YouTubeVideo('A8qMyBWZNw0')"
   ]
  },
  {
   "cell_type": "code",
   "execution_count": 10,
   "metadata": {},
   "outputs": [
    {
     "name": "stdout",
     "output_type": "stream",
     "text": [
      "\n",
      "When you attempt something risky or react to an imminent threat, envision your action and roll. If you act...\n",
      "- With speed, agility, or precision: Roll +edge.\n",
      "- With charm, loyalty, or courage: Roll +heart.\n",
      "- With aggressive action, forceful defense, strength, or endurance: Roll +iron.\n",
      "- With deception, stealth, or trickery: Roll +shadow.\n",
      "- With expertise, insight, or observation: Roll +wits.\n",
      "\n",
      "On a strong hit, you are successful. Take +1 momentum.\n",
      "\n",
      "On a weak hit, you succeed, but face a troublesome cost. Choose one.\n",
      "- You are delayed, lose advantage, or face a new danger: Suffer -1 momentum.\n",
      "- You are tired or hurt: Endure Harm (1 harm).\n",
      "- You are dispirited or afraid: Endure Stress (1 stress).\n",
      "- You sacrifice resources: Suffer -1 supply.\n",
      "\n",
      "On a miss, you fail, or your progress is undermined by a dramatic and costly turn of events. Pay the Price.\n"
     ]
    }
   ],
   "source": [
    "move.face_danger()"
   ]
  },
  {
   "cell_type": "code",
   "execution_count": 11,
   "metadata": {},
   "outputs": [
    {
     "data": {
      "text/plain": [
       "'Gain knowledge'"
      ]
     },
     "execution_count": 11,
     "metadata": {},
     "output_type": "execute_result"
    }
   ],
   "source": [
    "oracle.character_goal()"
   ]
  }
 ],
 "metadata": {
  "interpreter": {
   "hash": "9518128f597d7b00dc14729602cfd87fb7b2cf75925976bcb0d0e328a830a12b"
  },
  "kernelspec": {
   "display_name": "Python 3 (ipykernel)",
   "language": "python",
   "name": "python3"
  },
  "language_info": {
   "codemirror_mode": {
    "name": "ipython",
    "version": 3
   },
   "file_extension": ".py",
   "mimetype": "text/x-python",
   "name": "python",
   "nbconvert_exporter": "python",
   "pygments_lexer": "ipython3",
   "version": "3.9.6"
  }
 },
 "nbformat": 4,
 "nbformat_minor": 4
}
